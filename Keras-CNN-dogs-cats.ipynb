{
 "cells": [
  {
   "cell_type": "code",
   "execution_count": 1,
   "metadata": {},
   "outputs": [
    {
     "name": "stderr",
     "output_type": "stream",
     "text": [
      "C:\\Users\\mahsa\\AppData\\Local\\conda\\conda\\envs\\python3\\lib\\site-packages\\h5py\\__init__.py:36: FutureWarning: Conversion of the second argument of issubdtype from `float` to `np.floating` is deprecated. In future, it will be treated as `np.float64 == np.dtype(float).type`.\n",
      "  from ._conv import register_converters as _register_converters\n",
      "Using TensorFlow backend.\n"
     ]
    }
   ],
   "source": [
    "import numpy as np\n",
    "import cv2 as cv2\n",
    "import os\n",
    "from tqdm import tqdm\n",
    "\n",
    "from sklearn.utils import shuffle\n",
    "from sklearn.model_selection import train_test_split\n",
    "\n",
    "import keras\n",
    "from keras import backend as K\n",
    "from keras.models import Sequential\n",
    "from keras.layers import Activation, Dropout\n",
    "from keras.layers.core import Dense, Flatten\n",
    "from keras.optimizers import Adam\n",
    "from keras.metrics import categorical_crossentropy\n",
    "from keras.preprocessing.image import ImageDataGenerator, array_to_img, img_to_array, load_img\n",
    "from keras.layers.normalization import BatchNormalization\n",
    "from keras.layers.convolutional import *\n",
    "from sklearn.metrics import confusion_matrix\n",
    "import itertools\n",
    "\n",
    "import matplotlib.pyplot as plt\n",
    "%matplotlib inline"
   ]
  },
  {
   "cell_type": "code",
   "execution_count": 2,
   "metadata": {},
   "outputs": [],
   "source": [
    "train_path = '/Users/mahsa/OneDrive/Desktop/ML-projects/dogs-cats/train/'\n",
    "test_path =  '/Users/mahsa/OneDrive/Desktop/ML-projects/dogs-cats/test/'"
   ]
  },
  {
   "cell_type": "code",
   "execution_count": 3,
   "metadata": {},
   "outputs": [],
   "source": [
    "img_width = 200\n",
    "img_height = 200\n",
    "\n",
    "def prepare_data(list_of_images):\n",
    "   \n",
    "    image_data = [] # images \n",
    "    labels = [] # labels\n",
    "\n",
    "    for image in tqdm(list_of_images):\n",
    "        img = cv2.resize(cv2.imread(image), (img_width,img_height), interpolation=cv2.INTER_CUBIC)\n",
    "        image_data.append(img)\n",
    "        \n",
    "    for i in list_of_images:\n",
    "        if 'dog' in i:\n",
    "            labels.append([1,0])\n",
    "        elif 'cat' in i:\n",
    "            labels.append([0,1])\n",
    "                \n",
    "    return image_data, labels\n"
   ]
  },
  {
   "cell_type": "code",
   "execution_count": 4,
   "metadata": {},
   "outputs": [
    {
     "name": "stderr",
     "output_type": "stream",
     "text": [
      "100%|██████████| 100/100 [00:00<00:00, 378.15it/s]\n"
     ]
    }
   ],
   "source": [
    "train_images= [train_path + i for i in os.listdir(train_path)] \n",
    "test_images = [test_path + i for i in os.listdir(test_path)]\n",
    "\n",
    "X, Y = prepare_data(train_images[:100])\n",
    "#test_data = prepare_data(test_images)\n",
    "\n",
    "X_train, X_val, Y_train, Y_val = train_test_split(np.array(X), np.array(Y), test_size=0.2, random_state=121)"
   ]
  },
  {
   "cell_type": "code",
   "execution_count": 5,
   "metadata": {},
   "outputs": [
    {
     "data": {
      "text/plain": [
       "80"
      ]
     },
     "execution_count": 5,
     "metadata": {},
     "output_type": "execute_result"
    }
   ],
   "source": [
    "len(X_train)"
   ]
  },
  {
   "cell_type": "code",
   "execution_count": 6,
   "metadata": {},
   "outputs": [],
   "source": [
    "nb_train_samples = len(X_train)\n",
    "nb_validation_samples = len(X_val)\n",
    "batch_size = 5\n",
    "\n",
    "train_datagen = ImageDataGenerator(\n",
    "    rescale=1. / 255,\n",
    "    shear_range=0.2,\n",
    "    zoom_range=0.2,\n",
    "    horizontal_flip=True\n",
    "   )\n",
    "\n",
    "val_datagen = ImageDataGenerator(\n",
    "    rescale=1. / 255,\n",
    "    shear_range=0.2,\n",
    "    zoom_range=0.2,\n",
    "    horizontal_flip=True\n",
    "   )\n",
    "\n",
    "train_generator = train_datagen.flow(X_train, Y_train, batch_size=batch_size)\n",
    "validation_generator = val_datagen.flow(X_val, Y_val, batch_size=batch_size)"
   ]
  },
  {
   "cell_type": "code",
   "execution_count": 7,
   "metadata": {},
   "outputs": [
    {
     "name": "stdout",
     "output_type": "stream",
     "text": [
      "_________________________________________________________________\n",
      "Layer (type)                 Output Shape              Param #   \n",
      "=================================================================\n",
      "conv2d_1 (Conv2D)            (None, 198, 198, 8)       224       \n",
      "_________________________________________________________________\n",
      "max_pooling2d_1 (MaxPooling2 (None, 99, 99, 8)         0         \n",
      "_________________________________________________________________\n",
      "conv2d_2 (Conv2D)            (None, 97, 97, 16)        1168      \n",
      "_________________________________________________________________\n",
      "max_pooling2d_2 (MaxPooling2 (None, 48, 48, 16)        0         \n",
      "_________________________________________________________________\n",
      "flatten_1 (Flatten)          (None, 36864)             0         \n",
      "_________________________________________________________________\n",
      "dense_1 (Dense)              (None, 200)               7373000   \n",
      "_________________________________________________________________\n",
      "dropout_1 (Dropout)          (None, 200)               0         \n",
      "_________________________________________________________________\n",
      "dense_2 (Dense)              (None, 2)                 402       \n",
      "=================================================================\n",
      "Total params: 7,374,794\n",
      "Trainable params: 7,374,794\n",
      "Non-trainable params: 0\n",
      "_________________________________________________________________\n"
     ]
    }
   ],
   "source": [
    "n_classes =2\n",
    "\n",
    "model = Sequential()\n",
    "\n",
    "model.add(Conv2D(8, kernel_size=(3, 3), strides=(1, 1),\n",
    "                 activation='relu',\n",
    "                 input_shape=(img_width, img_height, 3)))\n",
    "model.add(MaxPooling2D(pool_size=(2, 2), strides=(2, 2)))\n",
    "model.add(Conv2D(16, (3, 3), activation='relu'))\n",
    "model.add(MaxPooling2D(pool_size=(2, 2)))\n",
    "model.add(Flatten())\n",
    "model.add(Dense(200, activation='relu'))\n",
    "model.add(Dropout(0.5))\n",
    "model.add(Dense(n_classes, activation='softmax'))\n",
    "\n",
    "model.compile(Adam(lr=.0001), loss='categorical_crossentropy', metrics=['accuracy'])\n",
    "model.summary()"
   ]
  },
  {
   "cell_type": "code",
   "execution_count": 8,
   "metadata": {},
   "outputs": [
    {
     "name": "stdout",
     "output_type": "stream",
     "text": [
      "Epoch 1/5\n",
      " - 118s - loss: 0.0024 - acc: 0.9995 - val_loss: 9.1196e-07 - val_acc: 1.0000\n",
      "Epoch 2/5\n",
      " - 113s - loss: 9.3170e-07 - acc: 1.0000 - val_loss: 2.0683e-07 - val_acc: 1.0000\n",
      "Epoch 3/5\n",
      " - 118s - loss: 7.0176e-07 - acc: 1.0000 - val_loss: 1.2803e-07 - val_acc: 1.0000\n",
      "Epoch 4/5\n",
      " - 115s - loss: 4.8051e-07 - acc: 1.0000 - val_loss: 1.2493e-07 - val_acc: 1.0000\n",
      "Epoch 5/5\n",
      " - 124s - loss: 2.0939e-07 - acc: 1.0000 - val_loss: 1.2302e-07 - val_acc: 1.0000\n"
     ]
    },
    {
     "data": {
      "text/plain": [
       "<keras.callbacks.History at 0x2159d5a4748>"
      ]
     },
     "execution_count": 8,
     "metadata": {},
     "output_type": "execute_result"
    }
   ],
   "source": [
    "model.fit_generator(train_generator, steps_per_epoch= batch_size * len(X_train), \n",
    "                    validation_data=validation_generator, \n",
    "                    validation_steps=batch_size * len(X_val), epochs=5, verbose=2)"
   ]
  },
  {
   "cell_type": "code",
   "execution_count": 9,
   "metadata": {},
   "outputs": [],
   "source": [
    "\n",
    "# batch_size = 32 # in each iteration, we consider 32 training examples at once\n",
    "# num_epochs = 200 # we iterate 200 times over the entire training set\n",
    "# kernel_size = 3 # we will use 3x3 kernels throughout\n",
    "# pool_size = 2 # we will use 2x2 pooling throughout\n",
    "# conv_depth_1 = 32 # we will initially have 32 kernels per conv. layer...\n",
    "# conv_depth_2 = 64 # ...switching to 64 after the first pooling layer\n",
    "# drop_prob_1 = 0.25 # dropout after pooling with probability 0.25\n",
    "# drop_prob_2 = 0.5 # dropout in the FC layer with probability 0.5\n",
    "# hidden_size = 512 # the FC layer will have 512 neurons   validation_steps=batch_size * len(X_val), epochs=5, verbose=2)\n",
    "\n",
    "\n",
    "\n",
    "# inp = Input(shape=(height, width, depth)) # depth goes last in TensorFlow back-end (first in Theano)\n",
    "# # Conv [32] -> Conv [32] -> Pool (with dropout on the pooling layer)\n",
    "# conv_1 = Convolution2D(conv_depth_1, (kernel_size, kernel_size), padding='same', activation='relu')(inp)\n",
    "# conv_2 = Convolution2D(conv_depth_1, (kernel_size, kernel_size), padding='same', activation='relu')(conv_1)\n",
    "# pool_1 = MaxPooling2D(pool_size=(pool_size, pool_size))(conv_2)\n",
    "# drop_1 = Dropout(drop_prob_1)(pool_1)\n",
    "# # Conv [64] -> Conv [64] -> Pool (with dropout on the pooling layer)\n",
    "# conv_3 = Convolution2D(conv_depth_2, (kernel_size, kernel_size), padding='same', activation='relu')(drop_1)\n",
    "# conv_4 = Convolution2D(conv_depth_2, (kernel_size, kernel_size), padding='same', activation='relu')(conv_3)\n",
    "# pool_2 = MaxPooling2D(pool_size=(pool_size, pool_size))(conv_4)\n",
    "# drop_2 = Dropout(drop_prob_1)(pool_2)\n",
    "# # Now flatten to 1D, apply FC -> ReLU (with dropout) -> softmax\n",
    "# flat = Flatten()(drop_2)\n",
    "# hidden = Dense(hidden_size, activation='relu')(flat)\n",
    "# drop_3 = Dropout(drop_prob_2)(hidden)\n",
    "# out = Dense(num_classes, activation='softmax')(drop_3)\n",
    "\n",
    "# model = Model(inputs=inp, outputs=out) # To define a model, just specify its input and output layers"
   ]
  }
 ],
 "metadata": {
  "kernelspec": {
   "display_name": "Python 3",
   "language": "python",
   "name": "python3"
  },
  "language_info": {
   "codemirror_mode": {
    "name": "ipython",
    "version": 3
   },
   "file_extension": ".py",
   "mimetype": "text/x-python",
   "name": "python",
   "nbconvert_exporter": "python",
   "pygments_lexer": "ipython3",
   "version": "3.6.4"
  }
 },
 "nbformat": 4,
 "nbformat_minor": 2
}
